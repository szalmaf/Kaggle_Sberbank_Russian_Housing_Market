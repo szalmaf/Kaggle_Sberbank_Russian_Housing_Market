{
 "cells": [
  {
   "cell_type": "code",
   "execution_count": 1,
   "metadata": {
    "collapsed": true
   },
   "outputs": [],
   "source": [
    "import pandas as pd\n",
    "from sklearn import linear_model\n",
    "import matplotlib.pyplot as plt\n",
    "import numpy as np\n",
    "import ggplot as gg"
   ]
  },
  {
   "cell_type": "code",
   "execution_count": 2,
   "metadata": {
    "collapsed": false
   },
   "outputs": [
    {
     "name": "stdout",
     "output_type": "stream",
     "text": [
      "/Users/szalmaf/Documents/GitHub/Kaggle Competitions/Sberbank_Russian_Housing_Market\r\n"
     ]
    }
   ],
   "source": [
    "!pwd"
   ]
  },
  {
   "cell_type": "code",
   "execution_count": 10,
   "metadata": {
    "collapsed": false
   },
   "outputs": [],
   "source": [
    "data = pd.read_csv(\"data/train.csv\")\n",
    "data = data[data[\"full_sq\"] < 250]\n",
    "#data = data[data[\"sub_area\"] == \"Nekrasovka\"]"
   ]
  },
  {
   "cell_type": "code",
   "execution_count": 57,
   "metadata": {
    "collapsed": false
   },
   "outputs": [],
   "source": [
    "linReg = linear_model.LinearRegression()"
   ]
  },
  {
   "cell_type": "code",
   "execution_count": 58,
   "metadata": {
    "collapsed": false
   },
   "outputs": [],
   "source": [
    "X = data[\"full_sq\"].values.reshape(-1,1)\n",
    "Y = np.log(data[\"price_doc\"].values.reshape(-1,1))\n",
    "T = data[\"timestamp\"].values.reshape(-1,1)"
   ]
  },
  {
   "cell_type": "code",
   "execution_count": 59,
   "metadata": {
    "collapsed": false
   },
   "outputs": [
    {
     "data": {
      "text/plain": [
       "LinearRegression(copy_X=True, fit_intercept=True, n_jobs=1, normalize=False)"
      ]
     },
     "execution_count": 59,
     "metadata": {},
     "output_type": "execute_result"
    }
   ],
   "source": [
    "linReg.fit(X, Y)"
   ]
  },
  {
   "cell_type": "code",
   "execution_count": 60,
   "metadata": {
    "collapsed": false
   },
   "outputs": [
    {
     "data": {
      "text/plain": [
       "(array([ 14.78820459]), array([[ 0.01217654]]))"
      ]
     },
     "execution_count": 60,
     "metadata": {},
     "output_type": "execute_result"
    }
   ],
   "source": [
    "linReg.intercept_, linReg.coef_"
   ]
  },
  {
   "cell_type": "code",
   "execution_count": 65,
   "metadata": {
    "collapsed": false
   },
   "outputs": [
    {
     "data": {
      "text/plain": [
       "<matplotlib.collections.PathCollection at 0x10683d0f0>"
      ]
     },
     "execution_count": 65,
     "metadata": {},
     "output_type": "execute_result"
    }
   ],
   "source": [
    "plt.scatter(X, Y, c=range(len(X)))"
   ]
  },
  {
   "cell_type": "code",
   "execution_count": 66,
   "metadata": {
    "collapsed": false
   },
   "outputs": [
    {
     "data": {
      "text/plain": [
       "<matplotlib.colorbar.Colorbar at 0x106721048>"
      ]
     },
     "execution_count": 66,
     "metadata": {},
     "output_type": "execute_result"
    }
   ],
   "source": [
    "plt.colorbar()"
   ]
  },
  {
   "cell_type": "code",
   "execution_count": 67,
   "metadata": {
    "collapsed": false
   },
   "outputs": [
    {
     "data": {
      "text/plain": [
       "[<matplotlib.lines.Line2D at 0x106727ef0>]"
      ]
     },
     "execution_count": 67,
     "metadata": {},
     "output_type": "execute_result"
    }
   ],
   "source": [
    "plt.plot(X, linReg.predict(X), color=\"blue\")"
   ]
  },
  {
   "cell_type": "code",
   "execution_count": 68,
   "metadata": {
    "collapsed": false
   },
   "outputs": [
    {
     "data": {
      "image/png": "[encoded data removed]",
      "text/plain": [
       "<matplotlib.figure.Figure at 0x112e01b70>"
      ]
     },
     "metadata": {},
     "output_type": "display_data"
    }
   ],
   "source": [
    "plt.show()"
   ]
  },
  {
   "cell_type": "code",
   "execution_count": 69,
   "metadata": {
    "collapsed": false
   },
   "outputs": [
    {
     "data": {
      "text/plain": [
       "array([[ 15.26308961],\n",
       "       [ 15.76232772],\n",
       "       [ 15.23873653],\n",
       "       ..., \n",
       "       [ 15.23873653],\n",
       "       [ 15.25091307],\n",
       "       [ 15.40920808]])"
      ]
     },
     "execution_count": 69,
     "metadata": {},
     "output_type": "execute_result"
    }
   ],
   "source": [
    "linReg.predict(X)"
   ]
  },
  {
   "cell_type": "code",
   "execution_count": 72,
   "metadata": {
    "collapsed": false
   },
   "outputs": [
    {
     "data": {
      "text/plain": [
       "(array([   2.,    1.,    2.,    3.,    2.,    3.,    7.,    3.,    1.,\n",
       "           0.,    8.,    1.,    0.,    8.,  198.,  356.,  293.,  490.,\n",
       "         217.,   14.]),\n",
       " array([ 12.71127449,  12.87905088,  13.04682727,  13.21460367,\n",
       "         13.38238006,  13.55015645,  13.71793285,  13.88570924,\n",
       "         14.05348563,  14.22126203,  14.38903842,  14.55681481,\n",
       "         14.72459121,  14.8923676 ,  15.060144  ,  15.22792039,\n",
       "         15.39569678,  15.56347318,  15.73124957,  15.89902596,  16.06680236]),\n",
       " <a list of 20 Patch objects>)"
      ]
     },
     "execution_count": 72,
     "metadata": {},
     "output_type": "execute_result"
    }
   ],
   "source": [
    "plt.hist(Y, bins=20)"
   ]
  },
  {
   "cell_type": "code",
   "execution_count": 73,
   "metadata": {
    "collapsed": false
   },
   "outputs": [
    {
     "data": {
      "image/png": "[encoded data removed]",
      "text/plain": [
       "<matplotlib.figure.Figure at 0x111603630>"
      ]
     },
     "metadata": {},
     "output_type": "display_data"
    }
   ],
   "source": [
    "plt.show()"
   ]
  },
  {
   "cell_type": "code",
   "execution_count": 51,
   "metadata": {
    "collapsed": false
   },
   "outputs": [
    {
     "data": {
      "text/plain": [
       "3527    5326\n",
       "Name: full_sq, dtype: int64"
      ]
     },
     "execution_count": 51,
     "metadata": {},
     "output_type": "execute_result"
    }
   ],
   "source": [
    "X[]"
   ]
  },
  {
   "cell_type": "code",
   "execution_count": 64,
   "metadata": {
    "collapsed": false
   },
   "outputs": [
    {
     "data": {
      "text/plain": [
       "Poselenie Sosenskoe               1776\n",
       "Nekrasovka                        1611\n",
       "Poselenie Vnukovskoe              1372\n",
       "Poselenie Moskovskij               925\n",
       "Poselenie Voskresenskoe            713\n",
       "Mitino                             679\n",
       "Tverskoe                           678\n",
       "Krjukovo                           518\n",
       "Mar'ino                            508\n",
       "Poselenie Filimonkovskoe           496\n",
       "Juzhnoe Butovo                     451\n",
       "Poselenie Shherbinka               443\n",
       "Solncevo                           421\n",
       "Zapadnoe Degunino                  410\n",
       "Poselenie Desjonovskoe             362\n",
       "Otradnoe                           353\n",
       "Nagatinskij Zaton                  327\n",
       "Nagornoe                           305\n",
       "Bogorodskoe                        305\n",
       "Strogino                           301\n",
       "Izmajlovo                          300\n",
       "Tekstil'shhiki                     298\n",
       "Ljublino                           297\n",
       "Gol'janovo                         295\n",
       "Severnoe Tushino                   282\n",
       "Chertanovo Juzhnoe                 273\n",
       "Birjulevo Vostochnoe               267\n",
       "Vyhino-Zhulebino                   264\n",
       "Horoshevo-Mnevniki                 262\n",
       "Zjuzino                            259\n",
       "                                  ... \n",
       "Ostankinskoe                        79\n",
       "Gagarinskoe                         79\n",
       "Nizhegorodskoe                      77\n",
       "Sokol                               72\n",
       "Altuf'evskoe                        68\n",
       "Rostokino                           64\n",
       "Kurkino                             62\n",
       "Begovoe                             60\n",
       "Sokol'niki                          60\n",
       "Metrogorodok                        58\n",
       "Dorogomilovo                        56\n",
       "Zamoskvorech'e                      50\n",
       "Kapotnja                            49\n",
       "Vnukovo                             44\n",
       "Krasnosel'skoe                      37\n",
       "Severnoe                            37\n",
       "Poselenie Rjazanovskoe              34\n",
       "Poselenie Rogovskoe                 31\n",
       "Poselenie Krasnopahorskoe           27\n",
       "Poselenie Kokoshkino                20\n",
       "Poselenie Mosrentgen                19\n",
       "Arbat                               15\n",
       "Vostochnoe                           7\n",
       "Poselenie Voronovskoe                7\n",
       "Poselenie Marushkinskoe              6\n",
       "Molzhaninovskoe                      3\n",
       "Poselenie Shhapovskoe                2\n",
       "Poselenie Kievskij                   2\n",
       "Poselenie Mihajlovo-Jarcevskoe       1\n",
       "Poselenie Klenovskoe                 1\n",
       "Name: sub_area, dtype: int64"
      ]
     },
     "execution_count": 64,
     "metadata": {},
     "output_type": "execute_result"
    }
   ],
   "source": [
    "data[\"sub_area\"].value_counts()"
   ]
  },
  {
   "cell_type": "code",
   "execution_count": 65,
   "metadata": {
    "collapsed": false
   },
   "outputs": [
    {
     "data": {
      "text/plain": [
       "128              Ivanovskoe\n",
       "1307                Kurkino\n",
       "1478               Solncevo\n",
       "1610               Ljublino\n",
       "2425         Filevskij Park\n",
       "2780     Troparevo-Nikulino\n",
       "3596             Nekrasovka\n",
       "5944              Lianozovo\n",
       "7207       Vyhino-Zhulebino\n",
       "16743          Obruchevskoe\n",
       "18341            Nekrasovka\n",
       "18525              Shhukino\n",
       "22785              Tverskoe\n",
       "23715              Krjukovo\n",
       "27793        Filevskij Park\n",
       "Name: sub_area, dtype: object"
      ]
     },
     "execution_count": 65,
     "metadata": {},
     "output_type": "execute_result"
    }
   ],
   "source": [
    "data[data[\"full_sq\"] > 250][\"sub_area\"]"
   ]
  },
  {
   "cell_type": "code",
   "execution_count": 11,
   "metadata": {
    "collapsed": true
   },
   "outputs": [],
   "source": [
    "X = data[\"num_room\"].values.reshape(-1,1)\n",
    "Y = np.log(data[\"price_doc\"].values.reshape(-1,1))"
   ]
  },
  {
   "cell_type": "code",
   "execution_count": 17,
   "metadata": {
    "collapsed": false
   },
   "outputs": [
    {
     "data": {
      "image/png": "[encoded data removed]",
      "text/plain": [
       "<matplotlib.figure.Figure at 0x112715198>"
      ]
     },
     "metadata": {},
     "output_type": "display_data"
    },
    {
     "data": {
      "text/plain": [
       "<ggplot: (-9223372036579560886)>"
      ]
     },
     "execution_count": 17,
     "metadata": {},
     "output_type": "execute_result"
    }
   ],
   "source": [
    "gg.ggplot(gg.aes(x=\"num_room\", y = \"price_doc\"), data=data) + gg.geom_boxplot() + gg.scale_y_log()"
   ]
  },
  {
   "cell_type": "code",
   "execution_count": null,
   "metadata": {
    "collapsed": true
   },
   "outputs": [],
   "source": []
  }
 ],
 "metadata": {
  "anaconda-cloud": {},
  "kernelspec": {
   "display_name": "Python [conda env:kaggle2017]",
   "language": "python",
   "name": "conda-env-kaggle2017-py"
  },
  "language_info": {
   "codemirror_mode": {
    "name": "ipython",
    "version": 3
   },
   "file_extension": ".py",
   "mimetype": "text/x-python",
   "name": "python",
   "nbconvert_exporter": "python",
   "pygments_lexer": "ipython3",
   "version": "3.5.2"
  }
 },
 "nbformat": 4,
 "nbformat_minor": 1
}
