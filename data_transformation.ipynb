{
 "cells": [
  {
   "cell_type": "code",
   "execution_count": 38,
   "metadata": {
    "collapsed": true
   },
   "outputs": [],
   "source": [
    "import pandas as pd\n",
    "from sklearn import linear_model\n",
    "import matplotlib.pyplot as plt\n",
    "import numpy as np"
   ]
  },
  {
   "cell_type": "code",
   "execution_count": 8,
   "metadata": {
    "collapsed": false
   },
   "outputs": [
    {
     "name": "stdout",
     "output_type": "stream",
     "text": [
      "/Users/szalmaf/Documents/GitHub/Kaggle Competitions/Sberbank_Russian_Housing_Market\r\n"
     ]
    }
   ],
   "source": [
    "!pwd"
   ]
  },
  {
   "cell_type": "code",
   "execution_count": 123,
   "metadata": {
    "collapsed": false
   },
   "outputs": [],
   "source": [
    "data = pd.read_csv(\"data/train.csv\")\n",
    "data = data[data[\"full_sq\"] < 250]\n",
    "data = data[data[\"sub_area\"] == \"Nekrasovka\"]"
   ]
  },
  {
   "cell_type": "code",
   "execution_count": 124,
   "metadata": {
    "collapsed": false
   },
   "outputs": [],
   "source": [
    "d = data[[\"full_sq\", \"price_doc\"]]"
   ]
  },
  {
   "cell_type": "code",
   "execution_count": 125,
   "metadata": {
    "collapsed": false
   },
   "outputs": [
    {
     "data": {
      "text/html": [
       "<div>\n",
       "<table border=\"1\" class=\"dataframe\">\n",
       "  <thead>\n",
       "    <tr style=\"text-align: right;\">\n",
       "      <th></th>\n",
       "      <th>full_sq</th>\n",
       "      <th>price_doc</th>\n",
       "    </tr>\n",
       "  </thead>\n",
       "  <tbody>\n",
       "    <tr>\n",
       "      <th>227</th>\n",
       "      <td>39</td>\n",
       "      <td>1030000</td>\n",
       "    </tr>\n",
       "    <tr>\n",
       "      <th>590</th>\n",
       "      <td>80</td>\n",
       "      <td>8300000</td>\n",
       "    </tr>\n",
       "    <tr>\n",
       "      <th>601</th>\n",
       "      <td>37</td>\n",
       "      <td>779396</td>\n",
       "    </tr>\n",
       "    <tr>\n",
       "      <th>854</th>\n",
       "      <td>80</td>\n",
       "      <td>472249</td>\n",
       "    </tr>\n",
       "    <tr>\n",
       "      <th>858</th>\n",
       "      <td>78</td>\n",
       "      <td>552312</td>\n",
       "    </tr>\n",
       "    <tr>\n",
       "      <th>1259</th>\n",
       "      <td>76</td>\n",
       "      <td>919584</td>\n",
       "    </tr>\n",
       "    <tr>\n",
       "      <th>1372</th>\n",
       "      <td>65</td>\n",
       "      <td>6500000</td>\n",
       "    </tr>\n",
       "    <tr>\n",
       "      <th>1596</th>\n",
       "      <td>59</td>\n",
       "      <td>338570</td>\n",
       "    </tr>\n",
       "    <tr>\n",
       "      <th>1759</th>\n",
       "      <td>37</td>\n",
       "      <td>779396</td>\n",
       "    </tr>\n",
       "    <tr>\n",
       "      <th>2094</th>\n",
       "      <td>96</td>\n",
       "      <td>9300000</td>\n",
       "    </tr>\n",
       "    <tr>\n",
       "      <th>2480</th>\n",
       "      <td>51</td>\n",
       "      <td>4058450</td>\n",
       "    </tr>\n",
       "    <tr>\n",
       "      <th>2540</th>\n",
       "      <td>51</td>\n",
       "      <td>705805</td>\n",
       "    </tr>\n",
       "    <tr>\n",
       "      <th>2568</th>\n",
       "      <td>76</td>\n",
       "      <td>476902</td>\n",
       "    </tr>\n",
       "    <tr>\n",
       "      <th>2620</th>\n",
       "      <td>51</td>\n",
       "      <td>4218720</td>\n",
       "    </tr>\n",
       "    <tr>\n",
       "      <th>2677</th>\n",
       "      <td>37</td>\n",
       "      <td>331464</td>\n",
       "    </tr>\n",
       "    <tr>\n",
       "      <th>2701</th>\n",
       "      <td>38</td>\n",
       "      <td>3669050</td>\n",
       "    </tr>\n",
       "    <tr>\n",
       "      <th>2708</th>\n",
       "      <td>58</td>\n",
       "      <td>4989140</td>\n",
       "    </tr>\n",
       "    <tr>\n",
       "      <th>2748</th>\n",
       "      <td>37</td>\n",
       "      <td>395685</td>\n",
       "    </tr>\n",
       "    <tr>\n",
       "      <th>2778</th>\n",
       "      <td>38</td>\n",
       "      <td>675205</td>\n",
       "    </tr>\n",
       "    <tr>\n",
       "      <th>2805</th>\n",
       "      <td>84</td>\n",
       "      <td>6218100</td>\n",
       "    </tr>\n",
       "    <tr>\n",
       "      <th>2888</th>\n",
       "      <td>58</td>\n",
       "      <td>4948840</td>\n",
       "    </tr>\n",
       "    <tr>\n",
       "      <th>2898</th>\n",
       "      <td>51</td>\n",
       "      <td>4492730</td>\n",
       "    </tr>\n",
       "    <tr>\n",
       "      <th>2903</th>\n",
       "      <td>54</td>\n",
       "      <td>3527502</td>\n",
       "    </tr>\n",
       "    <tr>\n",
       "      <th>2924</th>\n",
       "      <td>37</td>\n",
       "      <td>3680600</td>\n",
       "    </tr>\n",
       "    <tr>\n",
       "      <th>2999</th>\n",
       "      <td>89</td>\n",
       "      <td>550637</td>\n",
       "    </tr>\n",
       "    <tr>\n",
       "      <th>3022</th>\n",
       "      <td>36</td>\n",
       "      <td>3868800</td>\n",
       "    </tr>\n",
       "    <tr>\n",
       "      <th>3030</th>\n",
       "      <td>37</td>\n",
       "      <td>3680600</td>\n",
       "    </tr>\n",
       "    <tr>\n",
       "      <th>3300</th>\n",
       "      <td>75</td>\n",
       "      <td>897661</td>\n",
       "    </tr>\n",
       "    <tr>\n",
       "      <th>3303</th>\n",
       "      <td>37</td>\n",
       "      <td>3349500</td>\n",
       "    </tr>\n",
       "    <tr>\n",
       "      <th>3313</th>\n",
       "      <td>71</td>\n",
       "      <td>1225497</td>\n",
       "    </tr>\n",
       "    <tr>\n",
       "      <th>...</th>\n",
       "      <td>...</td>\n",
       "      <td>...</td>\n",
       "    </tr>\n",
       "    <tr>\n",
       "      <th>28546</th>\n",
       "      <td>61</td>\n",
       "      <td>6015955</td>\n",
       "    </tr>\n",
       "    <tr>\n",
       "      <th>28620</th>\n",
       "      <td>39</td>\n",
       "      <td>4590900</td>\n",
       "    </tr>\n",
       "    <tr>\n",
       "      <th>28633</th>\n",
       "      <td>63</td>\n",
       "      <td>6773400</td>\n",
       "    </tr>\n",
       "    <tr>\n",
       "      <th>28642</th>\n",
       "      <td>58</td>\n",
       "      <td>6520500</td>\n",
       "    </tr>\n",
       "    <tr>\n",
       "      <th>28702</th>\n",
       "      <td>51</td>\n",
       "      <td>5400000</td>\n",
       "    </tr>\n",
       "    <tr>\n",
       "      <th>28723</th>\n",
       "      <td>75</td>\n",
       "      <td>7595200</td>\n",
       "    </tr>\n",
       "    <tr>\n",
       "      <th>28785</th>\n",
       "      <td>38</td>\n",
       "      <td>3640798</td>\n",
       "    </tr>\n",
       "    <tr>\n",
       "      <th>28827</th>\n",
       "      <td>60</td>\n",
       "      <td>6699000</td>\n",
       "    </tr>\n",
       "    <tr>\n",
       "      <th>28883</th>\n",
       "      <td>79</td>\n",
       "      <td>7936985</td>\n",
       "    </tr>\n",
       "    <tr>\n",
       "      <th>28929</th>\n",
       "      <td>64</td>\n",
       "      <td>6124096</td>\n",
       "    </tr>\n",
       "    <tr>\n",
       "      <th>28953</th>\n",
       "      <td>64</td>\n",
       "      <td>6325600</td>\n",
       "    </tr>\n",
       "    <tr>\n",
       "      <th>28997</th>\n",
       "      <td>50</td>\n",
       "      <td>6500000</td>\n",
       "    </tr>\n",
       "    <tr>\n",
       "      <th>29029</th>\n",
       "      <td>64</td>\n",
       "      <td>6720000</td>\n",
       "    </tr>\n",
       "    <tr>\n",
       "      <th>29036</th>\n",
       "      <td>38</td>\n",
       "      <td>5490262</td>\n",
       "    </tr>\n",
       "    <tr>\n",
       "      <th>29117</th>\n",
       "      <td>52</td>\n",
       "      <td>5794680</td>\n",
       "    </tr>\n",
       "    <tr>\n",
       "      <th>29245</th>\n",
       "      <td>63</td>\n",
       "      <td>6650000</td>\n",
       "    </tr>\n",
       "    <tr>\n",
       "      <th>29275</th>\n",
       "      <td>52</td>\n",
       "      <td>5869700</td>\n",
       "    </tr>\n",
       "    <tr>\n",
       "      <th>29429</th>\n",
       "      <td>79</td>\n",
       "      <td>7957000</td>\n",
       "    </tr>\n",
       "    <tr>\n",
       "      <th>29581</th>\n",
       "      <td>39</td>\n",
       "      <td>4316500</td>\n",
       "    </tr>\n",
       "    <tr>\n",
       "      <th>29673</th>\n",
       "      <td>38</td>\n",
       "      <td>4486500</td>\n",
       "    </tr>\n",
       "    <tr>\n",
       "      <th>29775</th>\n",
       "      <td>40</td>\n",
       "      <td>4400000</td>\n",
       "    </tr>\n",
       "    <tr>\n",
       "      <th>29898</th>\n",
       "      <td>41</td>\n",
       "      <td>5750000</td>\n",
       "    </tr>\n",
       "    <tr>\n",
       "      <th>30069</th>\n",
       "      <td>51</td>\n",
       "      <td>7180323</td>\n",
       "    </tr>\n",
       "    <tr>\n",
       "      <th>30087</th>\n",
       "      <td>51</td>\n",
       "      <td>6779435</td>\n",
       "    </tr>\n",
       "    <tr>\n",
       "      <th>30101</th>\n",
       "      <td>52</td>\n",
       "      <td>5419300</td>\n",
       "    </tr>\n",
       "    <tr>\n",
       "      <th>30207</th>\n",
       "      <td>52</td>\n",
       "      <td>5869700</td>\n",
       "    </tr>\n",
       "    <tr>\n",
       "      <th>30228</th>\n",
       "      <td>51</td>\n",
       "      <td>6959565</td>\n",
       "    </tr>\n",
       "    <tr>\n",
       "      <th>30383</th>\n",
       "      <td>37</td>\n",
       "      <td>4611400</td>\n",
       "    </tr>\n",
       "    <tr>\n",
       "      <th>30388</th>\n",
       "      <td>38</td>\n",
       "      <td>3640798</td>\n",
       "    </tr>\n",
       "    <tr>\n",
       "      <th>30389</th>\n",
       "      <td>51</td>\n",
       "      <td>6475000</td>\n",
       "    </tr>\n",
       "  </tbody>\n",
       "</table>\n",
       "<p>1609 rows × 2 columns</p>\n",
       "</div>"
      ],
      "text/plain": [
       "       full_sq  price_doc\n",
       "227         39    1030000\n",
       "590         80    8300000\n",
       "601         37     779396\n",
       "854         80     472249\n",
       "858         78     552312\n",
       "1259        76     919584\n",
       "1372        65    6500000\n",
       "1596        59     338570\n",
       "1759        37     779396\n",
       "2094        96    9300000\n",
       "2480        51    4058450\n",
       "2540        51     705805\n",
       "2568        76     476902\n",
       "2620        51    4218720\n",
       "2677        37     331464\n",
       "2701        38    3669050\n",
       "2708        58    4989140\n",
       "2748        37     395685\n",
       "2778        38     675205\n",
       "2805        84    6218100\n",
       "2888        58    4948840\n",
       "2898        51    4492730\n",
       "2903        54    3527502\n",
       "2924        37    3680600\n",
       "2999        89     550637\n",
       "3022        36    3868800\n",
       "3030        37    3680600\n",
       "3300        75     897661\n",
       "3303        37    3349500\n",
       "3313        71    1225497\n",
       "...        ...        ...\n",
       "28546       61    6015955\n",
       "28620       39    4590900\n",
       "28633       63    6773400\n",
       "28642       58    6520500\n",
       "28702       51    5400000\n",
       "28723       75    7595200\n",
       "28785       38    3640798\n",
       "28827       60    6699000\n",
       "28883       79    7936985\n",
       "28929       64    6124096\n",
       "28953       64    6325600\n",
       "28997       50    6500000\n",
       "29029       64    6720000\n",
       "29036       38    5490262\n",
       "29117       52    5794680\n",
       "29245       63    6650000\n",
       "29275       52    5869700\n",
       "29429       79    7957000\n",
       "29581       39    4316500\n",
       "29673       38    4486500\n",
       "29775       40    4400000\n",
       "29898       41    5750000\n",
       "30069       51    7180323\n",
       "30087       51    6779435\n",
       "30101       52    5419300\n",
       "30207       52    5869700\n",
       "30228       51    6959565\n",
       "30383       37    4611400\n",
       "30388       38    3640798\n",
       "30389       51    6475000\n",
       "\n",
       "[1609 rows x 2 columns]"
      ]
     },
     "execution_count": 125,
     "metadata": {},
     "output_type": "execute_result"
    }
   ],
   "source": [
    "d"
   ]
  },
  {
   "cell_type": "code",
   "execution_count": 126,
   "metadata": {
    "collapsed": false
   },
   "outputs": [],
   "source": [
    "linReg = linear_model.LinearRegression()"
   ]
  },
  {
   "cell_type": "code",
   "execution_count": 127,
   "metadata": {
    "collapsed": false
   },
   "outputs": [
    {
     "name": "stdout",
     "output_type": "stream",
     "text": [
      "# conda environments:\r\n",
      "#\r\n",
      "kaggle2017            *  /Users/szalmaf/anaconda/envs/kaggle2017\r\n",
      "kaggle2017-2.7           /Users/szalmaf/anaconda/envs/kaggle2017-2.7\r\n",
      "py36                     /Users/szalmaf/anaconda/envs/py36\r\n",
      "root                     /Users/szalmaf/anaconda\r\n",
      "\r\n"
     ]
    }
   ],
   "source": [
    "!conda env list"
   ]
  },
  {
   "cell_type": "code",
   "execution_count": 128,
   "metadata": {
    "collapsed": false
   },
   "outputs": [
    {
     "name": "stderr",
     "output_type": "stream",
     "text": [
      "/Users/szalmaf/anaconda/envs/kaggle2017/lib/python3.5/site-packages/ipykernel/__main__.py:4: FutureWarning: reshape is deprecated and will raise in a subsequent release. Please use .values.reshape(...) instead\n"
     ]
    },
    {
     "data": {
      "text/plain": [
       "LinearRegression(copy_X=True, fit_intercept=True, n_jobs=1, normalize=False)"
      ]
     },
     "execution_count": 128,
     "metadata": {},
     "output_type": "execute_result"
    }
   ],
   "source": [
    "X = data[\"full_sq\"]\n",
    "Y = data[\"price_doc\"]\n",
    "T = data[\"timestamp\"]\n",
    "linReg.fit(X.reshape(-1,1), Y.reshape(-1,1))"
   ]
  },
  {
   "cell_type": "code",
   "execution_count": 129,
   "metadata": {
    "collapsed": false
   },
   "outputs": [
    {
     "data": {
      "text/plain": [
       "array([ 1647204.32941127])"
      ]
     },
     "execution_count": 129,
     "metadata": {},
     "output_type": "execute_result"
    }
   ],
   "source": [
    "linReg.intercept_"
   ]
  },
  {
   "cell_type": "code",
   "execution_count": 139,
   "metadata": {
    "collapsed": false
   },
   "outputs": [
    {
     "data": {
      "text/plain": [
       "<matplotlib.collections.PathCollection at 0x11822b7f0>"
      ]
     },
     "execution_count": 139,
     "metadata": {},
     "output_type": "execute_result"
    }
   ],
   "source": [
    "plt.scatter(X, Y, c=range(len(X)))"
   ]
  },
  {
   "cell_type": "code",
   "execution_count": 140,
   "metadata": {
    "collapsed": false
   },
   "outputs": [
    {
     "data": {
      "text/plain": [
       "<matplotlib.colorbar.Colorbar at 0x111b9f630>"
      ]
     },
     "execution_count": 140,
     "metadata": {},
     "output_type": "execute_result"
    }
   ],
   "source": [
    "plt.colorbar()"
   ]
  },
  {
   "cell_type": "code",
   "execution_count": 141,
   "metadata": {
    "collapsed": false
   },
   "outputs": [
    {
     "data": {
      "image/png": "[encoded data removed]",
      "text/plain": [
       "<matplotlib.figure.Figure at 0x117caea90>"
      ]
     },
     "metadata": {},
     "output_type": "display_data"
    }
   ],
   "source": [
    "plt.show()"
   ]
  },
  {
   "cell_type": "code",
   "execution_count": 122,
   "metadata": {
    "collapsed": false
   },
   "outputs": [
    {
     "data": {
      "text/plain": [
       "(array([   1.,    0.,    0.,    9.,    0.,    0.,    7.,    4.,   12.,\n",
       "          80.,  145.,  239.,  160.,   19.,    3.]),\n",
       " array([ 12.77786824,  13.06163612,  13.345404  ,  13.62917187,\n",
       "         13.91293975,  14.19670762,  14.4804755 ,  14.76424338,\n",
       "         15.04801125,  15.33177913,  15.615547  ,  15.89931488,\n",
       "         16.18308275,  16.46685063,  16.75061851,  17.03438638]),\n",
       " <a list of 15 Patch objects>)"
      ]
     },
     "execution_count": 122,
     "metadata": {},
     "output_type": "execute_result"
    }
   ],
   "source": [
    "plt.hist(np.log(Y), bins=15)"
   ]
  },
  {
   "cell_type": "code",
   "execution_count": 44,
   "metadata": {
    "collapsed": false
   },
   "outputs": [
    {
     "data": {
      "image/png": "[encoded data removed]",
      "text/plain": [
       "<matplotlib.figure.Figure at 0x1125a6668>"
      ]
     },
     "metadata": {},
     "output_type": "display_data"
    }
   ],
   "source": [
    "plt.show()"
   ]
  },
  {
   "cell_type": "code",
   "execution_count": 51,
   "metadata": {
    "collapsed": false
   },
   "outputs": [
    {
     "data": {
      "text/plain": [
       "3527    5326\n",
       "Name: full_sq, dtype: int64"
      ]
     },
     "execution_count": 51,
     "metadata": {},
     "output_type": "execute_result"
    }
   ],
   "source": [
    "X[]"
   ]
  },
  {
   "cell_type": "code",
   "execution_count": 64,
   "metadata": {
    "collapsed": false
   },
   "outputs": [
    {
     "data": {
      "text/plain": [
       "Poselenie Sosenskoe               1776\n",
       "Nekrasovka                        1611\n",
       "Poselenie Vnukovskoe              1372\n",
       "Poselenie Moskovskij               925\n",
       "Poselenie Voskresenskoe            713\n",
       "Mitino                             679\n",
       "Tverskoe                           678\n",
       "Krjukovo                           518\n",
       "Mar'ino                            508\n",
       "Poselenie Filimonkovskoe           496\n",
       "Juzhnoe Butovo                     451\n",
       "Poselenie Shherbinka               443\n",
       "Solncevo                           421\n",
       "Zapadnoe Degunino                  410\n",
       "Poselenie Desjonovskoe             362\n",
       "Otradnoe                           353\n",
       "Nagatinskij Zaton                  327\n",
       "Nagornoe                           305\n",
       "Bogorodskoe                        305\n",
       "Strogino                           301\n",
       "Izmajlovo                          300\n",
       "Tekstil'shhiki                     298\n",
       "Ljublino                           297\n",
       "Gol'janovo                         295\n",
       "Severnoe Tushino                   282\n",
       "Chertanovo Juzhnoe                 273\n",
       "Birjulevo Vostochnoe               267\n",
       "Vyhino-Zhulebino                   264\n",
       "Horoshevo-Mnevniki                 262\n",
       "Zjuzino                            259\n",
       "                                  ... \n",
       "Ostankinskoe                        79\n",
       "Gagarinskoe                         79\n",
       "Nizhegorodskoe                      77\n",
       "Sokol                               72\n",
       "Altuf'evskoe                        68\n",
       "Rostokino                           64\n",
       "Kurkino                             62\n",
       "Begovoe                             60\n",
       "Sokol'niki                          60\n",
       "Metrogorodok                        58\n",
       "Dorogomilovo                        56\n",
       "Zamoskvorech'e                      50\n",
       "Kapotnja                            49\n",
       "Vnukovo                             44\n",
       "Krasnosel'skoe                      37\n",
       "Severnoe                            37\n",
       "Poselenie Rjazanovskoe              34\n",
       "Poselenie Rogovskoe                 31\n",
       "Poselenie Krasnopahorskoe           27\n",
       "Poselenie Kokoshkino                20\n",
       "Poselenie Mosrentgen                19\n",
       "Arbat                               15\n",
       "Vostochnoe                           7\n",
       "Poselenie Voronovskoe                7\n",
       "Poselenie Marushkinskoe              6\n",
       "Molzhaninovskoe                      3\n",
       "Poselenie Shhapovskoe                2\n",
       "Poselenie Kievskij                   2\n",
       "Poselenie Mihajlovo-Jarcevskoe       1\n",
       "Poselenie Klenovskoe                 1\n",
       "Name: sub_area, dtype: int64"
      ]
     },
     "execution_count": 64,
     "metadata": {},
     "output_type": "execute_result"
    }
   ],
   "source": [
    "data[\"sub_area\"].value_counts()"
   ]
  },
  {
   "cell_type": "code",
   "execution_count": 65,
   "metadata": {
    "collapsed": false
   },
   "outputs": [
    {
     "data": {
      "text/plain": [
       "128              Ivanovskoe\n",
       "1307                Kurkino\n",
       "1478               Solncevo\n",
       "1610               Ljublino\n",
       "2425         Filevskij Park\n",
       "2780     Troparevo-Nikulino\n",
       "3596             Nekrasovka\n",
       "5944              Lianozovo\n",
       "7207       Vyhino-Zhulebino\n",
       "16743          Obruchevskoe\n",
       "18341            Nekrasovka\n",
       "18525              Shhukino\n",
       "22785              Tverskoe\n",
       "23715              Krjukovo\n",
       "27793        Filevskij Park\n",
       "Name: sub_area, dtype: object"
      ]
     },
     "execution_count": 65,
     "metadata": {},
     "output_type": "execute_result"
    }
   ],
   "source": [
    "data[data[\"full_sq\"] > 250][\"sub_area\"]"
   ]
  },
  {
   "cell_type": "code",
   "execution_count": 70,
   "metadata": {
    "collapsed": false
   },
   "outputs": [
    {
     "data": {
      "text/plain": [
       "0        27.0\n",
       "1        19.0\n",
       "2        29.0\n",
       "3        50.0\n",
       "4        77.0\n",
       "5        46.0\n",
       "6        14.0\n",
       "7        44.0\n",
       "8        27.0\n",
       "9        21.0\n",
       "10       19.0\n",
       "11       19.0\n",
       "12       28.0\n",
       "13       31.0\n",
       "14       21.0\n",
       "15       31.0\n",
       "16       31.0\n",
       "17       28.0\n",
       "18       33.0\n",
       "19       29.0\n",
       "20       44.0\n",
       "21       39.0\n",
       "22       34.0\n",
       "23       18.0\n",
       "24       19.0\n",
       "25       29.0\n",
       "26       20.0\n",
       "27       20.0\n",
       "28       38.0\n",
       "29       27.0\n",
       "         ... \n",
       "30441     1.0\n",
       "30442    40.0\n",
       "30443     NaN\n",
       "30444     NaN\n",
       "30445    47.0\n",
       "30446    82.0\n",
       "30447     NaN\n",
       "30448     NaN\n",
       "30449    47.0\n",
       "30450     NaN\n",
       "30451     NaN\n",
       "30452    19.0\n",
       "30453     1.0\n",
       "30454    26.0\n",
       "30455    79.0\n",
       "30456    30.0\n",
       "30457    43.0\n",
       "30458     1.0\n",
       "30459     NaN\n",
       "30460    32.0\n",
       "30461    19.0\n",
       "30462    30.0\n",
       "30463    29.0\n",
       "30464    51.0\n",
       "30465     NaN\n",
       "30466    27.0\n",
       "30467    59.0\n",
       "30468     NaN\n",
       "30469    32.0\n",
       "30470    28.0\n",
       "Name: life_sq, dtype: float64"
      ]
     },
     "execution_count": 70,
     "metadata": {},
     "output_type": "execute_result"
    }
   ],
   "source": [
    "X"
   ]
  },
  {
   "cell_type": "code",
   "execution_count": null,
   "metadata": {
    "collapsed": true
   },
   "outputs": [],
   "source": []
  }
 ],
 "metadata": {
  "anaconda-cloud": {},
  "kernelspec": {
   "display_name": "Python [conda env:kaggle2017]",
   "language": "python",
   "name": "conda-env-kaggle2017-py"
  },
  "language_info": {
   "codemirror_mode": {
    "name": "ipython",
    "version": 3
   },
   "file_extension": ".py",
   "mimetype": "text/x-python",
   "name": "python",
   "nbconvert_exporter": "python",
   "pygments_lexer": "ipython3",
   "version": "3.5.2"
  }
 },
 "nbformat": 4,
 "nbformat_minor": 1
}
